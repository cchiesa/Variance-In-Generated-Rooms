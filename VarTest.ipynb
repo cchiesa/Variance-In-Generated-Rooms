{
 "cells": [
  {
   "cell_type": "code",
   "execution_count": 1,
   "metadata": {},
   "outputs": [],
   "source": [
    "# Tests Variance of All Rooms And Cluster All Rooms\n",
    "import pip\n",
    "import numpy as np \n",
    "import pandas as pd \n",
    "import os\n",
    "import matplotlib.pyplot as plt\n",
    "from sklearn.model_selection import train_test_split\n",
    "\n",
    "# make data frame\n",
    "df = pd.read_csv('GenRooms.csv')\n",
    "#print(df['RoomType'])\n",
    "\n",
    "\n",
    "#import seaborn as sns \n",
    "  \n",
    "# generating correlation heatmap \n",
    "#sns.heatmap(zoo_data.corr(), annot = True) \n",
    "  \n",
    "# posting correlation heatmap to output console  \n",
    "#plt.show() \n",
    "\n"
   ]
  },
  {
   "cell_type": "code",
   "execution_count": 2,
   "metadata": {},
   "outputs": [],
   "source": [
    "#df.var(axis=1)\n",
    "roomType = df['RoomType']"
   ]
  },
  {
   "cell_type": "code",
   "execution_count": 3,
   "metadata": {},
   "outputs": [
    {
     "name": "stdout",
     "output_type": "stream",
     "text": [
      "accordion             0.000058\n",
      "air_conditioner       0.072408\n",
      "air_conditioner_1     0.011829\n",
      "air_conditioner_10    0.000029\n",
      "air_conditioner_11    0.000029\n",
      "air_conditioner_12    0.000029\n",
      "air_conditioner_13    0.000029\n",
      "air_conditioner_2     0.003650\n",
      "air_conditioner_3     0.001670\n",
      "air_conditioner_4     0.000836\n",
      "air_conditioner_5     0.000404\n",
      "air_conditioner_6     0.000288\n",
      "air_conditioner_7     0.000260\n",
      "air_conditioner_8     0.000202\n",
      "air_conditioner_9     0.000029\n",
      "amplifier             0.000144\n",
      "amplifier_1           0.000029\n",
      "amplifier_2           0.000029\n",
      "arch                  0.062149\n",
      "arch_1                0.013655\n",
      "arch_10               0.000144\n",
      "arch_11               0.000058\n",
      "arch_12               0.000058\n",
      "arch_13               0.000058\n",
      "arch_2                0.004423\n",
      "arch_3                0.001785\n",
      "arch_4                0.001124\n",
      "arch_5                0.000548\n",
      "arch_6                0.000490\n",
      "arch_7                0.000404\n",
      "                        ...   \n",
      "wood_board_40         0.000029\n",
      "wood_board_41         0.000029\n",
      "wood_board_5          0.000058\n",
      "wood_board_6          0.000058\n",
      "wood_board_7          0.000058\n",
      "wood_board_8          0.000058\n",
      "wood_board_9          0.000058\n",
      "workplace             0.018094\n",
      "workplace_1           0.002618\n",
      "workplace_10          0.000058\n",
      "workplace_11          0.000058\n",
      "workplace_12          0.000029\n",
      "workplace_13          0.000029\n",
      "workplace_14          0.000029\n",
      "workplace_15          0.000029\n",
      "workplace_16          0.000029\n",
      "workplace_2           0.000836\n",
      "workplace_3           0.000721\n",
      "workplace_4           0.000231\n",
      "workplace_5           0.000115\n",
      "workplace_6           0.000115\n",
      "workplace_7           0.000087\n",
      "workplace_8           0.000058\n",
      "workplace_9           0.000058\n",
      "xbox                  0.027472\n",
      "xbox_1                0.000288\n",
      "xbox_2                0.000115\n",
      "xbox_3                0.000058\n",
      "xbox_4                0.000029\n",
      "xbox_5                0.000029\n",
      "Length: 3500, dtype: float64\n"
     ]
    }
   ],
   "source": [
    "#clustering\n",
    "from pylab import rcParams\n",
    "#sklearn \n",
    "import sklearn\n",
    "from sklearn.cluster import KMeans \n",
    "from sklearn.preprocessing import scale # for scaling the data\n",
    "import sklearn.metrics as sm # for evaluating the model\n",
    "from sklearn import datasets\n",
    "from sklearn.metrics import confusion_matrix,classification_report\n",
    "\n",
    "del df['RoomType']\n",
    "data = df\n",
    "var_names = df.columns.values\n",
    "# VARAIANCE\n",
    "print(df.var())"
   ]
  },
  {
   "cell_type": "code",
   "execution_count": 4,
   "metadata": {},
   "outputs": [
    {
     "name": "stdout",
     "output_type": "stream",
     "text": [
      "['accordion' 'air_conditioner' 'air_conditioner_1' ... 'xbox_3' 'xbox_4'\n",
      " 'xbox_5']\n"
     ]
    }
   ],
   "source": [
    "print(var_names)"
   ]
  },
  {
   "cell_type": "code",
   "execution_count": null,
   "metadata": {},
   "outputs": [],
   "source": [
    "clusters = 73 #num of room types\n",
    "kmeans = KMeans(n_clusters=clusters,random_state=5)\n",
    "\n",
    "#fit the dataset\n",
    "kmeans.fit(data)\n"
   ]
  },
  {
   "cell_type": "code",
   "execution_count": null,
   "metadata": {},
   "outputs": [],
   "source": [
    "print(len(kmeans.labels_))\n",
    "print(kmeans.inertia_)"
   ]
  },
  {
   "cell_type": "code",
   "execution_count": null,
   "metadata": {},
   "outputs": [],
   "source": [
    "from sklearn.decomposition import PCA\n",
    "pca = PCA(3) \n",
    "pca.fit(data) \n",
    "  \n",
    "pca_data = pd.DataFrame(pca.transform(data)) \n",
    "  \n",
    "print(pca_data.head())"
   ]
  },
  {
   "cell_type": "code",
   "execution_count": null,
   "metadata": {},
   "outputs": [],
   "source": [
    "\n",
    "from matplotlib import colors as mcolors \n",
    "import math \n",
    "   \n",
    "''' Generating different colors in ascending order  \n",
    "                                of their hsv values '''\n",
    "colors = list(zip(*sorted(( \n",
    "                    tuple(mcolors.rgb_to_hsv( \n",
    "                          mcolors.to_rgba(color)[:3])), name) \n",
    "                     for name, color in dict( \n",
    "                            mcolors.BASE_COLORS, **mcolors.CSS4_COLORS \n",
    "                                                      ).items())))[1] \n",
    "   \n",
    "   \n",
    "# number of steps to taken generate n(clusters) colors  \n",
    "skips = math.floor(len(colors[5 : -5])/clusters) \n",
    "cluster_colors = colors[5 : -5 : skips] \n"
   ]
  },
  {
   "cell_type": "code",
   "execution_count": null,
   "metadata": {},
   "outputs": [],
   "source": [
    "from mpl_toolkits.mplot3d import Axes3D\n",
    "import matplotlib.pyplot as plt \n",
    "   \n",
    "fig = plt.figure() \n",
    "ax = fig.add_subplot(111, projection = '3d') \n",
    "ax.scatter(pca_data[0], pca_data[1], pca_data[2],  \n",
    "           c = list(map(lambda label : cluster_colors[label], \n",
    "                                            kmeans.labels_))) \n",
    "   \n",
    "str_labels = list(map(lambda label:'% s' % label, kmeans.labels_)) \n",
    "   \n",
    "list(map(lambda data1, data2, data3, str_label: \n",
    "        ax.text(data1, data2, data3, s = str_label, size = 0.5, \n",
    "        zorder = 20, color = 'k'), pca_data[0], pca_data[1], \n",
    "        pca_data[2], str_labels)) \n",
    "\n",
    "plt.show()"
   ]
  },
  {
   "cell_type": "code",
   "execution_count": null,
   "metadata": {},
   "outputs": [],
   "source": []
  },
  {
   "cell_type": "code",
   "execution_count": null,
   "metadata": {},
   "outputs": [],
   "source": []
  }
 ],
 "metadata": {
  "kernelspec": {
   "display_name": "Python 3",
   "language": "python",
   "name": "python3"
  },
  "language_info": {
   "codemirror_mode": {
    "name": "ipython",
    "version": 3
   },
   "file_extension": ".py",
   "mimetype": "text/x-python",
   "name": "python",
   "nbconvert_exporter": "python",
   "pygments_lexer": "ipython3",
   "version": "3.7.3"
  }
 },
 "nbformat": 4,
 "nbformat_minor": 2
}
