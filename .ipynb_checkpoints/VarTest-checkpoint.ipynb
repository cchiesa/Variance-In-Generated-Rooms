{
 "cells": [
  {
   "cell_type": "code",
   "execution_count": 1,
   "metadata": {},
   "outputs": [
    {
     "name": "stdout",
     "output_type": "stream",
     "text": [
      "0        \"Aeration.txt\"\n",
      "1        \"Aeration.txt\"\n",
      "2        \"Aeration.txt\"\n",
      "3        \"Aeration.txt\"\n",
      "4        \"Aeration.txt\"\n",
      "5        \"Aeration.txt\"\n",
      "6        \"Aeration.txt\"\n",
      "7        \"Aeration.txt\"\n",
      "8        \"Aeration.txt\"\n",
      "9        \"Aeration.txt\"\n",
      "10       \"Aeration.txt\"\n",
      "11       \"Aeration.txt\"\n",
      "12       \"Aeration.txt\"\n",
      "13       \"Aeration.txt\"\n",
      "14       \"Aeration.txt\"\n",
      "15       \"Aeration.txt\"\n",
      "16       \"Aeration.txt\"\n",
      "17       \"Aeration.txt\"\n",
      "18       \"Aeration.txt\"\n",
      "19       \"Aeration.txt\"\n",
      "20       \"Aeration.txt\"\n",
      "21       \"Aeration.txt\"\n",
      "22       \"Aeration.txt\"\n",
      "23       \"Aeration.txt\"\n",
      "24       \"Aeration.txt\"\n",
      "25       \"Aeration.txt\"\n",
      "26       \"Aeration.txt\"\n",
      "27       \"Aeration.txt\"\n",
      "28       \"Aeration.txt\"\n",
      "29       \"Aeration.txt\"\n",
      "              ...      \n",
      "34635    \"Wardrobe.txt\"\n",
      "34636    \"Wardrobe.txt\"\n",
      "34637    \"Wardrobe.txt\"\n",
      "34638    \"Wardrobe.txt\"\n",
      "34639    \"Wardrobe.txt\"\n",
      "34640    \"Wardrobe.txt\"\n",
      "34641    \"Wardrobe.txt\"\n",
      "34642    \"Wardrobe.txt\"\n",
      "34643    \"Wardrobe.txt\"\n",
      "34644    \"Wardrobe.txt\"\n",
      "34645    \"Wardrobe.txt\"\n",
      "34646    \"Wardrobe.txt\"\n",
      "34647    \"Wardrobe.txt\"\n",
      "34648    \"Wardrobe.txt\"\n",
      "34649    \"Wardrobe.txt\"\n",
      "34650    \"Wardrobe.txt\"\n",
      "34651    \"Wardrobe.txt\"\n",
      "34652    \"Wardrobe.txt\"\n",
      "34653    \"Wardrobe.txt\"\n",
      "34654    \"Wardrobe.txt\"\n",
      "34655    \"Wardrobe.txt\"\n",
      "34656    \"Wardrobe.txt\"\n",
      "34657    \"Wardrobe.txt\"\n",
      "34658    \"Wardrobe.txt\"\n",
      "34659    \"Wardrobe.txt\"\n",
      "34660    \"Wardrobe.txt\"\n",
      "34661    \"Wardrobe.txt\"\n",
      "34662    \"Wardrobe.txt\"\n",
      "34663    \"Wardrobe.txt\"\n",
      "34664    \"Wardrobe.txt\"\n",
      "Name: RoomType, Length: 34665, dtype: object\n"
     ]
    }
   ],
   "source": [
    "# Tests Variance of All Rooms\n",
    "import pip\n",
    "import numpy as np \n",
    "import pandas as pd \n",
    "import os\n",
    "import matplotlib.pyplot as plt\n",
    "from sklearn.model_selection import train_test_split\n",
    "\n",
    "# make data frame\n",
    "df = pd.read_csv('GenRooms.csv')\n",
    "print(df['RoomType'])\n"
   ]
  },
  {
   "cell_type": "code",
   "execution_count": 2,
   "metadata": {},
   "outputs": [],
   "source": [
    "#df.var(axis=1)\n",
    "roomType = df['RoomType']"
   ]
  },
  {
   "cell_type": "code",
   "execution_count": 3,
   "metadata": {},
   "outputs": [],
   "source": [
    "#clustering\n",
    "from pylab import rcParams\n",
    "#sklearn \n",
    "import sklearn\n",
    "from sklearn.cluster import KMeans \n",
    "from sklearn.preprocessing import scale # for scaling the data\n",
    "import sklearn.metrics as sm # for evaluating the model\n",
    "from sklearn import datasets\n",
    "from sklearn.metrics import confusion_matrix,classification_report\n",
    "\n",
    "del df['RoomType']\n",
    "data = df\n",
    "var_names = df.columns.values\n"
   ]
  },
  {
   "cell_type": "code",
   "execution_count": 4,
   "metadata": {},
   "outputs": [
    {
     "name": "stdout",
     "output_type": "stream",
     "text": [
      "['accordion' 'air_conditioner' 'air_conditioner_1' ... 'xbox_3' 'xbox_4'\n",
      " 'xbox_5']\n"
     ]
    }
   ],
   "source": [
    "print(var_names)"
   ]
  },
  {
   "cell_type": "code",
   "execution_count": 9,
   "metadata": {},
   "outputs": [
    {
     "data": {
      "text/plain": [
       "KMeans(algorithm='auto', copy_x=True, init='k-means++', max_iter=300,\n",
       "       n_clusters=5, n_init=10, n_jobs=None, precompute_distances='auto',\n",
       "       random_state=5, tol=0.0001, verbose=0)"
      ]
     },
     "execution_count": 9,
     "metadata": {},
     "output_type": "execute_result"
    }
   ],
   "source": [
    "clusters = 5\n",
    "kmeans = KMeans(n_clusters=clusters,random_state=5)\n",
    "\n",
    "#fit the dataset\n",
    "kmeans.fit(data)\n"
   ]
  },
  {
   "cell_type": "code",
   "execution_count": 6,
   "metadata": {},
   "outputs": [
    {
     "name": "stdout",
     "output_type": "stream",
     "text": [
      "[0 2 2 ... 2 2 2]\n",
      "453831.50871722307\n"
     ]
    }
   ],
   "source": [
    "print(kmeans.labels_)\n",
    "print(kmeans.inertia_)"
   ]
  },
  {
   "cell_type": "code",
   "execution_count": 7,
   "metadata": {},
   "outputs": [
    {
     "name": "stdout",
     "output_type": "stream",
     "text": [
      "          0         1         2\n",
      "0  3.948251 -1.162979  0.600235\n",
      "1 -1.172738  0.463938 -0.295207\n",
      "2 -1.168581  0.400894 -0.271404\n",
      "3  2.848152  0.337919 -1.607387\n",
      "4 -0.718938 -0.048496 -0.142887\n"
     ]
    }
   ],
   "source": [
    "from sklearn.decomposition import PCA\n",
    "pca = PCA(3) \n",
    "pca.fit(data) \n",
    "  \n",
    "pca_data = pd.DataFrame(pca.transform(data)) \n",
    "  \n",
    "print(pca_data.head())"
   ]
  },
  {
   "cell_type": "code",
   "execution_count": 10,
   "metadata": {},
   "outputs": [],
   "source": [
    "\n",
    "from matplotlib import colors as mcolors \n",
    "import math \n",
    "   \n",
    "''' Generating different colors in ascending order  \n",
    "                                of their hsv values '''\n",
    "colors = list(zip(*sorted(( \n",
    "                    tuple(mcolors.rgb_to_hsv( \n",
    "                          mcolors.to_rgba(color)[:3])), name) \n",
    "                     for name, color in dict( \n",
    "                            mcolors.BASE_COLORS, **mcolors.CSS4_COLORS \n",
    "                                                      ).items())))[1] \n",
    "   \n",
    "   \n",
    "# number of steps to taken generate n(clusters) colors  \n",
    "skips = math.floor(len(colors[5 : -5])/clusters) \n",
    "cluster_colors = colors[5 : -5 : skips] \n"
   ]
  },
  {
   "cell_type": "code",
   "execution_count": 14,
   "metadata": {},
   "outputs": [
    {
     "data": {
      "image/png": "[encoded data removed]",
      "text/plain": [
       "<Figure size 432x288 with 1 Axes>"
      ]
     },
     "metadata": {
      "needs_background": "light"
     },
     "output_type": "display_data"
    }
   ],
   "source": [
    "from mpl_toolkits.mplot3d import Axes3D\n",
    "import matplotlib.pyplot as plt \n",
    "   \n",
    "fig = plt.figure() \n",
    "ax = fig.add_subplot(111, projection = '3d') \n",
    "ax.scatter(pca_data[0], pca_data[1], pca_data[2],  \n",
    "           c = list(map(lambda label : cluster_colors[label], \n",
    "                                            kmeans.labels_))) \n",
    "   \n",
    "str_labels = list(map(lambda label:'% s' % label, kmeans.labels_)) \n",
    "   \n",
    "list(map(lambda data1, data2, data3, str_label: \n",
    "        ax.text(data1, data2, data3, s = str_label, size = 16.5, \n",
    "        zorder = 20, color = 'k'), pca_data[0], pca_data[1], \n",
    "        pca_data[2], str_labels)) \n",
    "\n",
    "plt.show()"
   ]
  },
  {
   "cell_type": "code",
   "execution_count": null,
   "metadata": {},
   "outputs": [],
   "source": []
  }
 ],
 "metadata": {
  "kernelspec": {
   "display_name": "Python 3",
   "language": "python",
   "name": "python3"
  },
  "language_info": {
   "codemirror_mode": {
    "name": "ipython",
    "version": 3
   },
   "file_extension": ".py",
   "mimetype": "text/x-python",
   "name": "python",
   "nbconvert_exporter": "python",
   "pygments_lexer": "ipython3",
   "version": "3.7.3"
  }
 },
 "nbformat": 4,
 "nbformat_minor": 2
}
