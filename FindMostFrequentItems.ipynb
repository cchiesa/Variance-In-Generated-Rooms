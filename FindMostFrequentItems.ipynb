{
 "nbformat": 4,
 "nbformat_minor": 2,
 "metadata": {
  "language_info": {
   "name": "python",
   "codemirror_mode": {
    "name": "ipython",
    "version": 3
   },
   "version": "3.7.3"
  },
  "orig_nbformat": 2,
  "file_extension": ".py",
  "mimetype": "text/x-python",
  "name": "python",
  "npconvert_exporter": "python",
  "pygments_lexer": "ipython3",
  "version": 3
 },
 "cells": [
  {
   "cell_type": "code",
   "execution_count": 2,
   "metadata": {},
   "outputs": [
    {
     "name": "stdout",
     "output_type": "stream",
     "text": "Aeration   1441\nHorizontal-Support wall                floor  931.0\n                   floor                wall  931.0\n                   wall                plant  270.0\n                   wall              plant_1  418.0\n                   wall              plant_2  455.0\n                   plant                wall  270.0\n                   plant              wall_1  418.0\n                   plant              wall_2  455.0\nproximity          floor              wall_2   98.0\n                   floor               plant   98.0\n                   wall               wall_1   98.0\n                   floor              wall_1   98.0\n                   floor              wall_3   98.0\n                   plant                wall   98.0\n                   plant              wall_1   98.0\n                   floor                wall   96.0\n                   floor             plant_3   96.0\n                   plant_2           plant_3   96.0\n                   plant             plant_1   96.0\n                   floor              window   96.0\n                   plant_1           plant_2   96.0\n                   floor             plant_1   93.0\n                   plant_1              wall   92.0\n                   floor             plant_2   92.0\n                   door                 wall   92.0\n                   door                floor   92.0\n                   plant_2              wall   91.0\n                   floor             plant_4   91.0\n                   plant_3           plant_4   91.0\n                   plant_3              wall   91.0\n...                                      ...    ...\nfrequency          wall_2               1215    NaN\n                   picture_frame          50    NaN\n                   floor                1216    NaN\n                   hanger_1              134    NaN\n                   television             30    NaN\n                   armchair               67    NaN\n                   ironing_board          38    NaN\n                   wall_3               1214    NaN\n                   dresser               149    NaN\n                   coffee_table           23    NaN\n                   ceiling              1202    NaN\n                   computer               23    NaN\n                   mirror_1               47    NaN\n                   stand_1                18    NaN\n                   shoes_cabinet_2        26    NaN\n                   vase                   27    NaN\n                   wardrobe_cabinet      628    NaN\n                   stand                  62    NaN\n                   floor_lamp             36    NaN\n                   washer                 25    NaN\n                   shelving_3             39    NaN\n                   fireplace              17    NaN\n                   chandelier_2           35    NaN\n                   ottoman               120    NaN\n                   mirror                207    NaN\n                   vacuum_cleaner         25    NaN\n                   outdoor_lamp           24    NaN\n                   shelving_2             65    NaN\n                   wall_lamp              42    NaN\n                   hanger_2               73    NaN\n\n[164449 rows x 2 columns]\n"
    }
   ],
   "source": [
    "import numpy as np \n",
    "import pandas as pd \n",
    "import os\n",
    "import matplotlib.pyplot as plt\n",
    "\n",
    "# make data frame\n",
    "df = pd.read_csv('mining_suncg_kermani.csv')\n"
   ]
  },
  {
   "cell_type": "code",
   "execution_count": 64,
   "metadata": {},
   "outputs": [
    {
     "name": "stdout",
     "output_type": "stream",
     "text": "<built-in method sort of list object at 0x000001EEF1743A88>\n"
    }
   ],
   "source": [
    "freq = df.loc['frequency',:]\n",
    "#print(freq)\n",
    "itemNames = list(freq.index)\n",
    "print(itemNames.sort)\n",
    "#print(freq['Aeration']['rug'].values)#get freq values\n",
    "#trackFreq = [itemNames][]\n",
    "#for item in itemNames:\n",
    "\n",
    "\n"
   ]
  },
  {
   "cell_type": "code",
   "execution_count": null,
   "metadata": {},
   "outputs": [],
   "source": []
  }
 ]
}